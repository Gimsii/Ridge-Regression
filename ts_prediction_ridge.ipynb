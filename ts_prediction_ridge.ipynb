{
  "nbformat": 4,
  "nbformat_minor": 0,
  "metadata": {
    "colab": {
      "provenance": [],
      "collapsed_sections": [],
      "authorship_tag": "ABX9TyP1sftejzkCD/qNC7nquBCw"
    },
    "kernelspec": {
      "name": "python3",
      "display_name": "Python 3"
    },
    "language_info": {
      "name": "python"
    }
  },
  "cells": [
    {
      "cell_type": "code",
      "execution_count": null,
      "metadata": {
        "id": "cS93hsBBOfg0"
      },
      "outputs": [],
      "source": [
        "import pandas as pd\n",
        "import plotly.express as px\n",
        "import numpy as np\n",
        "import yfinance as yf\n",
        "from sklearn.preprocessing import MinMaxScaler\n",
        "from sklearn.linear_model import Ridge"
      ]
    },
    {
      "cell_type": "code",
      "source": [
        "def interactive_plot(df, title):\n",
        "  fig = px.line(title=title)\n",
        "  for i in df.columns[1:]:\n",
        "    fig.add_scatter(x = df['Date'], y = df[i], name = i)\n",
        "  fig.show()"
      ],
      "metadata": {
        "id": "yDu-jwvqH5BL"
      },
      "execution_count": null,
      "outputs": []
    },
    {
      "cell_type": "code",
      "source": [
        "def stock_predictor(proportion, ticker = \"ticker\", start_date= \"start_date\", end_date=\"end_date\"):\n",
        "  # Step 1: grab data\n",
        "  df = yf.download(tickers=ticker, start=start_date, end=end_date)\n",
        "  \n",
        "  # Step 2: create our target, e.g want to predict next days stock price\n",
        "  df['Target'] = df['Adj Close'].shift(-1)\n",
        "\n",
        "  # Step 3: prepare data\n",
        "  data = pd.DataFrame({'Adj Close': df['Adj Close'],'Volume': df['Volume'], 'Target': df['Target'] })[:-1]\n",
        "\n",
        "  # Scaling data, easier for model to learn\n",
        "  scale_range = MinMaxScaler(feature_range = (0,1))\n",
        "  data_scaled = scale_range.fit_transform(data)\n",
        "  \n",
        "  # Setting up what proportion of data will be used for training/testing\n",
        "  X, y = data_scaled[:, :2], data_scaled[:, 2:]\n",
        "  split = int(proportion * len(X))\n",
        "  X_train, y_train = X[:split], y[:split]\n",
        "  X_test, y_test = X[split:], y[split:]\n",
        "\n",
        "  # Step 4: train model\n",
        "  regression_model = Ridge()\n",
        "  regression_model.fit(X_train, y_train)\n",
        "\n",
        "  # Step 5: evaluation and result\n",
        "  linear_regression_accuracy = regression_model.score(X_test, y_test)\n",
        "\n",
        "  scaled_adjclose = data_scaled[:,0].tolist()\n",
        "\n",
        "  predicted_prices = regression_model.predict(X)[:,0].tolist()\n",
        "\n",
        "  data_prediction = pd.DataFrame({'Date': df.index[:-1],'Scaled Adj Close': scaled_adjclose, 'Prediction': predicted_prices})\n",
        "\n",
        "  return print('Ridge Regression Score:', linear_regression_accuracy), interactive_plot(data_prediction, 'Original vs Prediction')"
      ],
      "metadata": {
        "id": "8yUNOs74C59t"
      },
      "execution_count": null,
      "outputs": []
    }
  ]
}